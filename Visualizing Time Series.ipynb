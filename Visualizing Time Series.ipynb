{
 "cells": [
  {
   "cell_type": "markdown",
   "id": "7b8ac410-de84-4798-8157-e20e560f33fd",
   "metadata": {},
   "source": [
    "# Loveida Lucero"
   ]
  },
  {
   "cell_type": "markdown",
   "id": "a502ba94-55af-4d6f-8d5f-e6c7ea2e01e8",
   "metadata": {},
   "source": [
    "# **(Practice) Visualizing Time Series**\n",
    "For this assignment, you will be working with a modified version of [weather data from London from Kaggle](https://www.kaggle.com/datasets/emmanuelfwerr/london-weather-data).\n",
    "\n",
    "- Use the modified version of the data provided here:\n",
    "  - Share URL: https://docs.google.com/spreadsheets/d/1J2hEGA1-ZOdXOc1Go2AjB7xShq-nAvIDpBz_XRZscHU/edit?usp=sharing\n",
    "  - Raw URL:\n",
    "    - https://docs.google.com/spreadsheets/d/e/2PACX-1vT_jChgNsQbHbg4TGepzIqk8XC9DTIKmyyxb1upo5cfZCgbfIUQc2ZC0YMzuU5uApP140Ob49KBjdqh/pub?gid=1198589591&single=true&output=csv\n",
    "\n",
    "First, load in the data. To save some time, you can leverage Panda's read_csv function to convert the date column\n",
    "\n",
    "**1.Convert the date column to datetime dtype.** Double-check the result. Is it what you expected? If not, be sure to correct it by entering the appropriate format!\n",
    "\n",
    "**2.Set the date column as the index. Inspect the new index of your dataframe.** What type of index is it? Does it have a frequency?\n",
    "\n",
    "**3.Filter out only the required data:**\n",
    "  - Keep only data from the year 2000 or later.\n",
    "  - Keep only the following features:\n",
    "    - precipitation\n",
    "    - mean_temp\n",
    "    - min_temp\n",
    "    - max_temp\n",
    "    - snow_depth\n",
    "\n",
    "**4.Impute any missing values.**\n",
    "  - Think about each feature and what imputation method makes sense. You may not be able to use the same method for every feature!\n",
    "\n",
    "**5.Plot the mean, min, and max temps for 2018-2020 on one figure.**\n",
    "\n",
    "Note: you may want to make a temporary DataFrame that you will use to answer this question only.\n",
    "\n",
    "- Use a combination of pandas, matplotlib tick formatters, tick locators, and the fig.autofmt_xdate method to:\n",
    "  - Create a wide figure (e.g. figsize=(12,3))\n",
    "  - Set the title to \"Daily Temperature\"\n",
    "  - Set the ylabel to \"Degrees\"\n",
    "  - Customize the major xaxis ticks to:\n",
    "    - Have major xaxis ticks every 1 year.\n",
    "    - Use 4-digit years for the labels\n",
    "    - Rotate the major ticks' labels 90 degrees.\n",
    "  - Customize the minor xaxis ticks to:\n",
    "    - Have minor xaxis ticks every 3 months\n",
    "    - Use 3-letter month names for the labels.\n",
    "\n",
    "\n",
    "- Your final figure should look something like the image below. You are highly encouraged, though, to apply additional customization/tweaks to your final figure!\n",
    "  - ![png](https://assets.codingdojo.com/boomyeah2015/codingdojo/curriculum/content/chapter/1666119902__practice_ts_viz_1.png)\n",
    "\n",
    "**6.Plot the precipitation and snow depth for 2000-2020**\n",
    "\n",
    "Note: you may want to make a temporary DataFrame that you will use to answer this question only.\n",
    "\n",
    "- Use a combination of pandas, matplotlib tick formatters, tick locators, and the fig.autofmt_xdate method to:\n",
    "  - Create a wide figure (e.g. figsize=(12,3))\n",
    "  - With the title of \"Daily Precipitation\"\n",
    "  - With a ylabel of \"Inches\"\n",
    "  - Customize the major xaxis ticks to:\n",
    "    - Have major xaxis ticks every 5 years.\n",
    "    -  4-digit years for the labels\n",
    "    - Rotate the major ticks' labels 45 degrees.\n",
    "  - Customize the minor xaxis ticks to:\n",
    "    - Have minor xaxis ticks every 3 months\n",
    "    - Do not label the minor ticks on the x-axis.\n",
    "- Your final figure should look something like the image below. You are highly encouraged, though, to apply additional customization/tweaks to your final figure!\n",
    "  - ![png](https://assets.codingdojo.com/boomyeah2015/codingdojo/curriculum/content/chapter/1666119956__practice_ts_viz_2.png)\n"
   ]
  },
  {
   "cell_type": "markdown",
   "id": "f4582484-453a-4a5d-bad5-8a8131354fa9",
   "metadata": {},
   "source": [
    "# Solution"
   ]
  },
  {
   "cell_type": "code",
   "execution_count": null,
   "id": "32561e25-0de9-46cc-b0f1-94983ec75145",
   "metadata": {},
   "outputs": [],
   "source": []
  }
 ],
 "metadata": {
  "kernelspec": {
   "display_name": "Python (dojo-env)",
   "language": "python",
   "name": "dojo-env"
  },
  "language_info": {
   "codemirror_mode": {
    "name": "ipython",
    "version": 3
   },
   "file_extension": ".py",
   "mimetype": "text/x-python",
   "name": "python",
   "nbconvert_exporter": "python",
   "pygments_lexer": "ipython3",
   "version": "3.10.10"
  },
  "widgets": {
   "application/vnd.jupyter.widget-state+json": {
    "state": {},
    "version_major": 2,
    "version_minor": 0
   }
  }
 },
 "nbformat": 4,
 "nbformat_minor": 5
}
